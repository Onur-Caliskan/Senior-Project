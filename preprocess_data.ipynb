{
  "nbformat": 4,
  "nbformat_minor": 0,
  "metadata": {
    "colab": {
      "provenance": []
    },
    "kernelspec": {
      "name": "python3",
      "display_name": "Python 3"
    },
    "language_info": {
      "name": "python"
    }
  },
  "cells": [
    {
      "cell_type": "code",
      "execution_count": 1,
      "metadata": {
        "id": "aAYT03CMuACL"
      },
      "outputs": [],
      "source": [
        "import pandas as pd\n",
        "import numpy as np"
      ]
    },
    {
      "cell_type": "code",
      "source": [
        "dataframe = pd.read_excel(\"Toplu_Duplicatesiz.xlsx\")"
      ],
      "metadata": {
        "id": "Jyisaj1u2cYd"
      },
      "execution_count": null,
      "outputs": []
    },
    {
      "cell_type": "code",
      "source": [
        "dataframe.isna().sum()"
      ],
      "metadata": {
        "colab": {
          "base_uri": "https://localhost:8080/"
        },
        "id": "dxTnl0NE2m5B",
        "outputId": "29f902d6-18e7-4083-ba04-1773620a5ffd"
      },
      "execution_count": null,
      "outputs": [
        {
          "output_type": "execute_result",
          "data": {
            "text/plain": [
              "Unnamed: 0                     0\n",
              "Fiyat                          0\n",
              "İlan No                        0\n",
              "Marka                          1\n",
              "Seri                           1\n",
              "Model                         15\n",
              "Yıl                            0\n",
              "Km                             0\n",
              "Vites Tipi                     6\n",
              "Yakıt Tipi                     0\n",
              "Kasa Tipi                     41\n",
              "Renk                          11\n",
              "Motor Hacmi                  203\n",
              "Motor Gücü                   257\n",
              "Çekiş                        234\n",
              "Ort. Yakıt Tüketimi         1361\n",
              "Yakıt Deposu                 636\n",
              "Boya-değişen                   0\n",
              "Değişen                        0\n",
              "Boya                           0\n",
              "Kimden                         0\n",
              "Açıklama                       0\n",
              "Processed Açıklama Metni       0\n",
              "dtype: int64"
            ]
          },
          "metadata": {},
          "execution_count": 24
        }
      ]
    },
    {
      "cell_type": "code",
      "source": [
        "def fill_data_model(df,col_list,group_list):#This function gets df and according to grouplist's mode value, fills the nan values of the col_list\n",
        "    df_filled = df.copy()\n",
        "\n",
        "\n",
        "    for col in col_list:\n",
        "        df_filled[col] = df_filled.groupby(group_list)[col].transform(lambda x: x.fillna(x.mode().iloc[0] if not x.mode().empty else pd.NA))\n",
        "\n",
        "    return df_filled"
      ],
      "metadata": {
        "id": "I4ok-c9qpbCA"
      },
      "execution_count": null,
      "outputs": []
    },
    {
      "cell_type": "code",
      "source": [
        "cols_to_fill = ['Motor Hacmi', 'Motor Gücü', 'Çekiş', 'Ort. Yakıt Tüketimi', 'Yakıt Deposu']\n",
        "group_list = ['Marka', 'Seri', 'Model']"
      ],
      "metadata": {
        "id": "uyTfSamVF6Jz"
      },
      "execution_count": null,
      "outputs": []
    },
    {
      "cell_type": "code",
      "source": [
        "filled = fill_data_model(dataframe,cols_to_fill,group_list)#fill the values"
      ],
      "metadata": {
        "id": "M710br16p0D1"
      },
      "execution_count": null,
      "outputs": []
    },
    {
      "cell_type": "code",
      "source": [
        "filled.isna().sum()"
      ],
      "metadata": {
        "colab": {
          "base_uri": "https://localhost:8080/"
        },
        "id": "tUkSAR1I0XL9",
        "outputId": "fde9fe14-3099-4038-ed7b-50fa57137d6f"
      },
      "execution_count": null,
      "outputs": [
        {
          "output_type": "execute_result",
          "data": {
            "text/plain": [
              "Unnamed: 0                     0\n",
              "Fiyat                          0\n",
              "İlan No                        0\n",
              "Marka                          1\n",
              "Seri                           1\n",
              "Model                         15\n",
              "Yıl                            0\n",
              "Km                             0\n",
              "Vites Tipi                     6\n",
              "Yakıt Tipi                     0\n",
              "Kasa Tipi                     41\n",
              "Renk                          11\n",
              "Motor Hacmi                   65\n",
              "Motor Gücü                    63\n",
              "Çekiş                         71\n",
              "Ort. Yakıt Tüketimi         1002\n",
              "Yakıt Deposu                 321\n",
              "Boya-değişen                   0\n",
              "Değişen                        0\n",
              "Boya                           0\n",
              "Kimden                         0\n",
              "Açıklama                       0\n",
              "Processed Açıklama Metni       0\n",
              "dtype: int64"
            ]
          },
          "metadata": {},
          "execution_count": 28
        }
      ]
    },
    {
      "cell_type": "code",
      "source": [
        "group_list = ['Marka', 'Seri']"
      ],
      "metadata": {
        "id": "BmQSSgLCGVlB"
      },
      "execution_count": null,
      "outputs": []
    },
    {
      "cell_type": "code",
      "source": [
        "filled_2 = fill_data_model(filled,cols_to_fill,group_list)#fill the values if the data has unique model"
      ],
      "metadata": {
        "id": "SqPJb0gjGYtZ"
      },
      "execution_count": null,
      "outputs": []
    },
    {
      "cell_type": "code",
      "source": [
        "filled_2.isna().sum()"
      ],
      "metadata": {
        "colab": {
          "base_uri": "https://localhost:8080/"
        },
        "id": "O3g5WmuRGcEE",
        "outputId": "f8b7a460-ad16-4f2a-b38f-d81463749a50"
      },
      "execution_count": null,
      "outputs": [
        {
          "output_type": "execute_result",
          "data": {
            "text/plain": [
              "Unnamed: 0                    0\n",
              "Fiyat                         0\n",
              "İlan No                       0\n",
              "Marka                         1\n",
              "Seri                          1\n",
              "Model                        15\n",
              "Yıl                           0\n",
              "Km                            0\n",
              "Vites Tipi                    6\n",
              "Yakıt Tipi                    0\n",
              "Kasa Tipi                    41\n",
              "Renk                         11\n",
              "Motor Hacmi                  28\n",
              "Motor Gücü                   22\n",
              "Çekiş                        24\n",
              "Ort. Yakıt Tüketimi         565\n",
              "Yakıt Deposu                131\n",
              "Boya-değişen                  0\n",
              "Değişen                       0\n",
              "Boya                          0\n",
              "Kimden                        0\n",
              "Açıklama                      0\n",
              "Processed Açıklama Metni      0\n",
              "dtype: int64"
            ]
          },
          "metadata": {},
          "execution_count": 31
        }
      ]
    },
    {
      "cell_type": "code",
      "source": [
        "group_list = ['Marka']\n",
        "filled_3 = fill_data_model(filled,cols_to_fill,group_list)#fill the data if the data has unique Series"
      ],
      "metadata": {
        "id": "V-Mk5TQlGgJD"
      },
      "execution_count": null,
      "outputs": []
    },
    {
      "cell_type": "code",
      "source": [
        "filled_3.isna().sum()"
      ],
      "metadata": {
        "colab": {
          "base_uri": "https://localhost:8080/"
        },
        "id": "T-ysKCGmGlvs",
        "outputId": "df7a07c7-5c25-49e8-fc87-f21c785eb924"
      },
      "execution_count": null,
      "outputs": [
        {
          "output_type": "execute_result",
          "data": {
            "text/plain": [
              "Unnamed: 0                   0\n",
              "Fiyat                        0\n",
              "İlan No                      0\n",
              "Marka                        1\n",
              "Seri                         1\n",
              "Model                       15\n",
              "Yıl                          0\n",
              "Km                           0\n",
              "Vites Tipi                   6\n",
              "Yakıt Tipi                   0\n",
              "Kasa Tipi                   41\n",
              "Renk                        11\n",
              "Motor Hacmi                  4\n",
              "Motor Gücü                   5\n",
              "Çekiş                        4\n",
              "Ort. Yakıt Tüketimi          8\n",
              "Yakıt Deposu                 6\n",
              "Boya-değişen                 0\n",
              "Değişen                      0\n",
              "Boya                         0\n",
              "Kimden                       0\n",
              "Açıklama                     0\n",
              "Processed Açıklama Metni     0\n",
              "dtype: int64"
            ]
          },
          "metadata": {},
          "execution_count": 33
        }
      ]
    },
    {
      "cell_type": "code",
      "source": [
        "filled_3.dropna(inplace = True)#drop the nas"
      ],
      "metadata": {
        "id": "zMujcKKR3B39"
      },
      "execution_count": null,
      "outputs": []
    },
    {
      "cell_type": "code",
      "source": [
        "filled_3.isna().sum()"
      ],
      "metadata": {
        "colab": {
          "base_uri": "https://localhost:8080/"
        },
        "id": "RXkUGTbA_xh_",
        "outputId": "77814b17-3953-4c71-8f70-605716642d26"
      },
      "execution_count": null,
      "outputs": [
        {
          "output_type": "execute_result",
          "data": {
            "text/plain": [
              "Unnamed: 0                  0\n",
              "Fiyat                       0\n",
              "İlan No                     0\n",
              "Marka                       0\n",
              "Seri                        0\n",
              "Model                       0\n",
              "Yıl                         0\n",
              "Km                          0\n",
              "Vites Tipi                  0\n",
              "Yakıt Tipi                  0\n",
              "Kasa Tipi                   0\n",
              "Renk                        0\n",
              "Motor Hacmi                 0\n",
              "Motor Gücü                  0\n",
              "Çekiş                       0\n",
              "Ort. Yakıt Tüketimi         0\n",
              "Yakıt Deposu                0\n",
              "Boya-değişen                0\n",
              "Değişen                     0\n",
              "Boya                        0\n",
              "Kimden                      0\n",
              "Açıklama                    0\n",
              "Processed Açıklama Metni    0\n",
              "dtype: int64"
            ]
          },
          "metadata": {},
          "execution_count": 35
        }
      ]
    },
    {
      "cell_type": "code",
      "source": [
        "def remove_(text):#this function removes underlines\n",
        "\n",
        "  text = text.replace(\"_\", \" \")\n",
        "\n",
        "  temizlenmis_text = ' '.join(text.split())\n",
        "\n",
        "  return temizlenmis_text"
      ],
      "metadata": {
        "id": "kzL256vwNT1K"
      },
      "execution_count": null,
      "outputs": []
    },
    {
      "cell_type": "code",
      "source": [
        "filled_3[\"Processed Açıklama Metni\"] = filled_3[\"Processed Açıklama Metni\"].apply(remove_)"
      ],
      "metadata": {
        "id": "UN0Zk5kDNyv6"
      },
      "execution_count": null,
      "outputs": []
    },
    {
      "cell_type": "code",
      "source": [
        "filled_3.to_excel(\"Toplu_Duplicatesiz_Nansız_2.xlsx\")#export the data as xlsx"
      ],
      "metadata": {
        "id": "gaOdAI3xGtU4"
      },
      "execution_count": null,
      "outputs": []
    }
  ]
}